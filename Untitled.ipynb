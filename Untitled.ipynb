{
 "cells": [
  {
   "cell_type": "markdown",
   "id": "10229d3c-e63e-4f3a-8d03-b690da4190bf",
   "metadata": {},
   "source": [
    "# Data Science Tools and Ecosystem\n"
   ]
  },
  {
   "cell_type": "markdown",
   "id": "2e974a5d-f6a0-48f0-99b1-debd7b9a708c",
   "metadata": {},
   "source": [
    "En este cuaderno, se resumen las herramientas y ecosistemas de ciencia de datos.\n"
   ]
  },
  {
   "cell_type": "markdown",
   "id": "a4562d20-058f-4a2b-805a-5e165debf74e",
   "metadata": {},
   "source": [
    "Algunos de los lenguajes populares que utilizan los científicos de datos son:\n",
    "1. Python\n",
    "2. R\n",
    "3. SQL\n",
    "4. Julia\n"
   ]
  },
  {
   "cell_type": "markdown",
   "id": "9b522f11-c76e-4335-9a5c-426797bec38f",
   "metadata": {},
   "source": [
    "Algunas de las bibliotecas comúnmente utilizadas por los científicos de datos incluyen:\n",
    "1. NumPy\n",
    "2. pandas\n",
    "3. Matplotlib\n",
    "4. Scikit-learn\n"
   ]
  },
  {
   "cell_type": "markdown",
   "id": "150af76e-6d15-4272-955c-0cb33edb3ffe",
   "metadata": {},
   "source": [
    "| Herramientas de Ciencia de Datos |\n",
    "|----------------------------------|\n",
    "| Jupyter Notebook                 |\n",
    "| RStudio                          |\n",
    "| Apache Zeppelin                  |\n"
   ]
  },
  {
   "cell_type": "markdown",
   "id": "7b9c808d-520c-494e-a55f-b3c7b1ac7eb8",
   "metadata": {},
   "source": [
    "### A continuación, se presentan algunos ejemplos de evaluación de expresiones aritméticas en Python.\n"
   ]
  },
  {
   "cell_type": "code",
   "execution_count": 1,
   "id": "6158b047-bee8-46e4-a0de-fefb12764c82",
   "metadata": {},
   "outputs": [
    {
     "data": {
      "text/html": [
       "17"
      ],
      "text/latex": [
       "17"
      ],
      "text/markdown": [
       "17"
      ],
      "text/plain": [
       "[1] 17"
      ]
     },
     "metadata": {},
     "output_type": "display_data"
    }
   ],
   "source": [
    "# Esta es una expresión aritmética simple para multiplicar y luego sumar enteros\n",
    "(3 * 4) + 5\n"
   ]
  },
  {
   "cell_type": "code",
   "execution_count": 2,
   "id": "02d5aa7d-ed1c-4712-b627-02f58c115de2",
   "metadata": {},
   "outputs": [
    {
     "data": {
      "text/html": [
       "3.33333333333333"
      ],
      "text/latex": [
       "3.33333333333333"
      ],
      "text/markdown": [
       "3.33333333333333"
      ],
      "text/plain": [
       "[1] 3.333333"
      ]
     },
     "metadata": {},
     "output_type": "display_data"
    }
   ],
   "source": [
    "# Esto convertirá 200 minutos a horas dividiendo por 60\n",
    "200 / 60\n"
   ]
  },
  {
   "cell_type": "markdown",
   "id": "5933deee-6d3e-4587-9b45-a2c148058239",
   "metadata": {},
   "source": [
    "**Objetivos:**\n",
    "- Listar lenguajes populares para Ciencia de Datos.\n",
    "- Identificar bibliotecas comunes utilizadas por los científicos de datos.\n",
    "- Explicar ejemplos de expresiones aritméticas.\n",
    "- Crear una tabla de herramientas utilizadas en Ciencia de Datos.\n"
   ]
  },
  {
   "cell_type": "markdown",
   "id": "89e5f4d0-bce2-468d-a91c-1f034c3c47c2",
   "metadata": {},
   "source": [
    "## Autor\n",
    "Tu Nombre\n",
    "Cristian David Muñoz Garcia"
   ]
  },
  {
   "cell_type": "code",
   "execution_count": null,
   "id": "ee666f3c-83de-49b8-90ba-4cc47bd87a4f",
   "metadata": {},
   "outputs": [],
   "source": []
  }
 ],
 "metadata": {
  "kernelspec": {
   "display_name": "R",
   "language": "R",
   "name": "ir"
  },
  "language_info": {
   "codemirror_mode": "r",
   "file_extension": ".r",
   "mimetype": "text/x-r-source",
   "name": "R",
   "pygments_lexer": "r",
   "version": "4.4.2"
  }
 },
 "nbformat": 4,
 "nbformat_minor": 5
}
